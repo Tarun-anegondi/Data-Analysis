{
  "nbformat": 4,
  "nbformat_minor": 0,
  "metadata": {
    "colab": {
      "provenance": []
    },
    "kernelspec": {
      "name": "python3",
      "display_name": "Python 3"
    },
    "language_info": {
      "name": "python"
    }
  },
  "cells": [
    {
      "cell_type": "code",
      "execution_count": null,
      "metadata": {
        "id": "XLX-vi5CzKWE"
      },
      "outputs": [],
      "source": [
        "import numpy as np"
      ]
    },
    {
      "cell_type": "code",
      "source": [
        "import pandas as pd"
      ],
      "metadata": {
        "id": "WTGvjXc7s93Z"
      },
      "execution_count": null,
      "outputs": []
    },
    {
      "cell_type": "code",
      "source": [
        "a=[[1,2,3,4],[5,6,7,8]]\n",
        "b=[[1,3,5,7],[2,4,6,8]]\n",
        "c=[[0,0,0,0],[0,0,0,0]]\n",
        "for i in range(len(a)):\n",
        "  for j in range(len(a[0])):\n",
        "    c[i][j]=a[i][j]+b[i][j]\n",
        "\n",
        "\n",
        "print(c)\n"
      ],
      "metadata": {
        "id": "JQKe1mtw2oBx",
        "colab": {
          "base_uri": "https://localhost:8080/"
        },
        "outputId": "553e5fd2-6c73-4941-c6cd-f61877a4b831"
      },
      "execution_count": null,
      "outputs": [
        {
          "output_type": "stream",
          "name": "stdout",
          "text": [
            "[[2, 5, 8, 11], [7, 10, 13, 16]]\n"
          ]
        }
      ]
    },
    {
      "cell_type": "code",
      "source": [],
      "metadata": {
        "id": "s9fr3-tftRyJ"
      },
      "execution_count": null,
      "outputs": []
    },
    {
      "cell_type": "code",
      "source": [
        "arr=np.array([0,1,2,3,4,5])\n",
        "print(arr)"
      ],
      "metadata": {
        "colab": {
          "base_uri": "https://localhost:8080/"
        },
        "id": "XoLMAbMo8AFd",
        "outputId": "7bab1a9a-f5fb-4994-a21c-792f6f05790c"
      },
      "execution_count": null,
      "outputs": [
        {
          "output_type": "stream",
          "name": "stdout",
          "text": [
            "[0 1 2 3 4 5]\n"
          ]
        }
      ]
    },
    {
      "cell_type": "code",
      "source": [
        "arr1=np.array([0,1,2,3,4,5])\n",
        "zeros_arr=np.zeros((3,3),dtype=int)\n",
        "print(zeros_arr)\n",
        "\n",
        "one_array=np.ones((3,3),dtype=int)\n",
        "print(one_array)\n",
        "\n",
        "reshape_arr=arr1.reshape(2,3)\n",
        "print(reshape_arr)\n",
        "\n",
        "arr2=np.array([[1,2,3,4],[4,5,6,7]])\n",
        "arr1=np.array([[1,2,3,4],[4,5,6,7]])\n",
        "res=arr2+arr1\n",
        "print(res)\n",
        "arange_arr=np.arange(6)\n",
        "print(arange_arr)\n",
        "print('----------------------------')\n",
        "vstack_arr=np.vstack(arr1+arr2)\n",
        "print(vstack_arr)\n",
        "print('----------------------------')\n",
        "vstack_arr=np.hstack(arr1+arr2)\n",
        "print(vstack_arr)\n",
        "print('----------------------------')\n",
        "slice_arr=arr[0:6:2]\n",
        "print(slice_arr)\n",
        "print('----------------------------')\n",
        "split_arr=np.split(arr,6)\n",
        "print(split_arr)\n",
        "\n"
      ],
      "metadata": {
        "colab": {
          "base_uri": "https://localhost:8080/"
        },
        "id": "aD4n7bdx9PRE",
        "outputId": "5500e5d0-1425-4bd0-bba8-a5aa28f8327e"
      },
      "execution_count": null,
      "outputs": [
        {
          "output_type": "stream",
          "name": "stdout",
          "text": [
            "[[0 0 0]\n",
            " [0 0 0]\n",
            " [0 0 0]]\n",
            "[[1 1 1]\n",
            " [1 1 1]\n",
            " [1 1 1]]\n",
            "[[0 1 2]\n",
            " [3 4 5]]\n",
            "[[ 2  4  6  8]\n",
            " [ 8 10 12 14]]\n",
            "[0 1 2 3 4 5]\n",
            "----------------------------\n",
            "[[ 2  4  6  8]\n",
            " [ 8 10 12 14]]\n",
            "----------------------------\n",
            "[ 2  4  6  8  8 10 12 14]\n",
            "----------------------------\n",
            "[0 2 4]\n",
            "----------------------------\n",
            "[array([0]), array([1]), array([2]), array([3]), array([4]), array([5])]\n"
          ]
        }
      ]
    },
    {
      "cell_type": "code",
      "source": [
        "sum_arr=np.arange(1,7).reshape(2,3)\n",
        "sum1=sum_arr.sum()\n",
        "print(sum1)\n",
        "\n",
        "\n",
        "a=np.array([[2,4,6],[1,3,5]])\n",
        "c=np.sum(a,axis=0)\n",
        "d=np.sum(a,axis=1)\n",
        "print(c)\n",
        "print(d)\n"
      ],
      "metadata": {
        "colab": {
          "base_uri": "https://localhost:8080/"
        },
        "id": "W31g6-JAeQji",
        "outputId": "d8d7e4a4-ed92-4c5b-815e-824f07f390c2"
      },
      "execution_count": null,
      "outputs": [
        {
          "output_type": "stream",
          "name": "stdout",
          "text": [
            "21\n",
            "[ 3  7 11]\n",
            "[12  9]\n"
          ]
        }
      ]
    },
    {
      "cell_type": "code",
      "source": [
        "a=np.array([[1,2],[3,4]])\n",
        "b=np.array([[5,6],[7,8]])\n",
        "c=np.dot(a,b)\n",
        "print(c)"
      ],
      "metadata": {
        "colab": {
          "base_uri": "https://localhost:8080/"
        },
        "id": "vUGS7hTAMfZK",
        "outputId": "e7e61ea7-6a39-4767-a538-f91e1749882e"
      },
      "execution_count": null,
      "outputs": [
        {
          "output_type": "stream",
          "name": "stdout",
          "text": [
            "[[19 22]\n",
            " [43 50]]\n"
          ]
        }
      ]
    },
    {
      "cell_type": "code",
      "source": [
        "mean_arr=np.arange(1,7)\n",
        "mean_value=np.mean(mean_arr)\n",
        "print(mean_value)\n",
        "mean_value=mean_arr.mean()\n",
        "print(mean_value)\n",
        "\n",
        "median_value=np.median(mean_arr)\n",
        "\n",
        "print(median_val)\n",
        "\n",
        "var_val=np.var(mean_arr)\n",
        "print(var_val)\n",
        "\n",
        "\n",
        "std_value=np.std(mean_arr)\n",
        "print(std_value)"
      ],
      "metadata": {
        "colab": {
          "base_uri": "https://localhost:8080/"
        },
        "id": "SN5BBOwAjM4x",
        "outputId": "05209700-27fd-4e1f-cabe-57e7989ab197"
      },
      "execution_count": null,
      "outputs": [
        {
          "output_type": "stream",
          "name": "stdout",
          "text": [
            "3.5\n",
            "3.5\n",
            "3.5\n",
            "2.9166666666666665\n",
            "1.707825127659933\n"
          ]
        }
      ]
    },
    {
      "cell_type": "code",
      "source": [
        "data=np.loadtxt(\"/content/data.txt\",dtype=int)\n",
        "print(data)\n",
        "data1=np.savetxt(\"/content/save.txt\",data)\n",
        "\n",
        "data1=np.loadtxt(\"/content/data.txt\",dtype=int)\n",
        "print(data1)\n"
      ],
      "metadata": {
        "colab": {
          "base_uri": "https://localhost:8080/"
        },
        "id": "XrD9PneNtIgz",
        "outputId": "d13abcd3-0270-48c4-e84f-8a9c0591eb05"
      },
      "execution_count": null,
      "outputs": [
        {
          "output_type": "stream",
          "name": "stdout",
          "text": [
            "[[1 2 3]\n",
            " [4 5 6]\n",
            " [7 8 9]]\n",
            "[[1 2 3]\n",
            " [4 5 6]\n",
            " [7 8 9]]\n"
          ]
        }
      ]
    },
    {
      "cell_type": "code",
      "source": [
        "import matplotlib.pyplot as plt\n",
        "a=np.array([1,2,3,4])\n",
        "plt.plot(a)\n"
      ],
      "metadata": {
        "colab": {
          "base_uri": "https://localhost:8080/",
          "height": 447
        },
        "id": "xpKMKp_vvoaR",
        "outputId": "f1955360-9c6b-4c9d-8f41-642befce8238"
      },
      "execution_count": null,
      "outputs": [
        {
          "output_type": "execute_result",
          "data": {
            "text/plain": [
              "[<matplotlib.lines.Line2D at 0x7a4e93f88610>]"
            ]
          },
          "metadata": {},
          "execution_count": 117
        },
        {
          "output_type": "display_data",
          "data": {
            "text/plain": [
              "<Figure size 640x480 with 1 Axes>"
            ],
            "image/png": "[encoded data removed]"
          },
          "metadata": {}
        }
      ]
    },
    {
      "cell_type": "code",
      "source": [
        "import pandas as pd\n",
        "a=[\"tarun\",\"venky\",\"kumar\",\"abhi\",\"shannu\",\"ganesh\",\"aakhil\"]\n",
        "r=pd.Series(a,index=[1,2,3,4,5,6,7])\n",
        "print(r)"
      ],
      "metadata": {
        "colab": {
          "base_uri": "https://localhost:8080/"
        },
        "id": "N8BmYTDStVcB",
        "outputId": "3d3ed893-77ad-454b-b916-abd4c7d7b93b"
      },
      "execution_count": null,
      "outputs": [
        {
          "output_type": "stream",
          "name": "stdout",
          "text": [
            "1     tarun\n",
            "2     venky\n",
            "3     kumar\n",
            "4      abhi\n",
            "5    shannu\n",
            "6    ganesh\n",
            "7    aakhil\n",
            "dtype: object\n"
          ]
        }
      ]
    },
    {
      "cell_type": "code",
      "source": [
        "df=pd.read_csv(\"/content/gapminder-FiveYearData.csv\")\n",
        "print(df)"
      ],
      "metadata": {
        "colab": {
          "base_uri": "https://localhost:8080/"
        },
        "id": "jktZ9jS7umPA",
        "outputId": "88c22f2e-cd2d-49e3-f28b-7480b0eb2da3"
      },
      "execution_count": null,
      "outputs": [
        {
          "output_type": "stream",
          "name": "stdout",
          "text": [
            "          country  year         pop continent  lifeExp   gdpPercap\n",
            "0     Afghanistan  1952   8425333.0      Asia   28.801  779.445314\n",
            "1     Afghanistan  1957   9240934.0      Asia   30.332  820.853030\n",
            "2     Afghanistan  1962  10267083.0      Asia   31.997  853.100710\n",
            "3     Afghanistan  1967  11537966.0      Asia   34.020  836.197138\n",
            "4     Afghanistan  1972  13079460.0      Asia   36.088  739.981106\n",
            "...           ...   ...         ...       ...      ...         ...\n",
            "1699     Zimbabwe  1987   9216418.0    Africa   62.351  706.157306\n",
            "1700     Zimbabwe  1992  10704340.0    Africa   60.377  693.420786\n",
            "1701     Zimbabwe  1997  11404948.0    Africa   46.809  792.449960\n",
            "1702     Zimbabwe  2002  11926563.0    Africa   39.989  672.038623\n",
            "1703     Zimbabwe  2007  12311143.0    Africa   43.487  469.709298\n",
            "\n",
            "[1704 rows x 6 columns]\n"
          ]
        }
      ]
    },
    {
      "cell_type": "code",
      "source": [
        "df=pd.read_csv(\"/content/teaxtfile1.txt\",sep=\"/t\")\n",
        "print(df)"
      ],
      "metadata": {
        "colab": {
          "base_uri": "https://localhost:8080/"
        },
        "id": "V2uiRO6jwFlx",
        "outputId": "4cab712e-0a91-4b50-834e-f7151892ba3d"
      },
      "execution_count": null,
      "outputs": [
        {
          "output_type": "stream",
          "name": "stdout",
          "text": [
            "     work_year                                job_title                   job_category salary_currency  salary  salary_in_usd       employee_residence experience_level employment_type work_setting         company_location company_size\n",
            "0     2023                     Data DevOps Engineer ...                                                                                                                                                                                   \n",
            "1     2023                           Data Architect ...                                                                                                                                                                                   \n",
            "2     2023                           Data Architect ...                                                                                                                                                                                   \n",
            "3     2023                           Data Scientist ...                                                                                                                                                                                   \n",
            "4     2023                           Data Scientist ...                                                                                                                                                                                   \n",
            "...                                                 ...                                                                                                                                                                                   \n",
            "9350  2021                          Data Specialist ...                                                                                                                                                                                   \n",
            "9351  2020                           Data Scientist ...                                                                                                                                                                                   \n",
            "9352  2021                 Principal Data Scientist ...                                                                                                                                                                                   \n",
            "9353  2020                           Data Scientist ...                                                                                                                                                                                   \n",
            "9354  2020                    Business Data Analyst ...                                                                                                                                                                                   \n",
            "\n",
            "[9355 rows x 1 columns]\n"
          ]
        },
        {
          "output_type": "stream",
          "name": "stderr",
          "text": [
            "<ipython-input-32-9bea34558aa5>:1: ParserWarning: Falling back to the 'python' engine because the 'c' engine does not support regex separators (separators > 1 char and different from '\\s+' are interpreted as regex); you can avoid this warning by specifying engine='python'.\n",
            "  df=pd.read_csv(\"/content/teaxtfile1.txt\",sep=\"/t\")\n"
          ]
        }
      ]
    },
    {
      "cell_type": "code",
      "source": [
        "df1=pd.read_excel(\"/content/Stock Market Dataset (2).xlsx\",sheet_name=0)\n",
        "print(df1)"
      ],
      "metadata": {
        "colab": {
          "base_uri": "https://localhost:8080/"
        },
        "id": "VCsfnk6w3cDm",
        "outputId": "5e71fb4a-ae0b-4034-a3c0-57917826224e"
      },
      "execution_count": null,
      "outputs": [
        {
          "output_type": "stream",
          "name": "stdout",
          "text": [
            "      Unnamed: 0       Date  Natural_Gas_Price  Natural_Gas_Vol.  \\\n",
            "0              0 2024-02-02              2.079               NaN   \n",
            "1              1 2024-02-01              2.050          161340.0   \n",
            "2              2 2024-01-31              2.100          142860.0   \n",
            "3              3 2024-01-30              2.077          139750.0   \n",
            "4              4 2024-01-29              2.490            3590.0   \n",
            "...          ...        ...                ...               ...   \n",
            "1238        1238 2019-02-08              2.583          147880.0   \n",
            "1239        1239 2019-02-07              2.551          211790.0   \n",
            "1240        1240 2019-02-06              2.662           98330.0   \n",
            "1241        1241 2019-02-05              2.662           82250.0   \n",
            "1242        1242 2019-02-04              2.660          116490.0   \n",
            "\n",
            "      Crude_oil_Price  Crude_oil_Vol.  Copper_Price  Copper_Vol.  \\\n",
            "0               72.28             NaN        3.8215          NaN   \n",
            "1               73.82        577940.0        3.8535          NaN   \n",
            "2               75.85        344490.0        3.9060          NaN   \n",
            "3               77.82        347240.0        3.9110          NaN   \n",
            "4               76.78        331930.0        3.8790          NaN   \n",
            "...               ...             ...           ...          ...   \n",
            "1238            52.72        621000.0        2.8140        270.0   \n",
            "1239            52.64        749010.0        2.8320        320.0   \n",
            "1240            54.01        606720.0        2.8400        100.0   \n",
            "1241            53.66        609760.0        2.8205         90.0   \n",
            "1242            54.56        622470.0        2.7975        490.0   \n",
            "\n",
            "      Bitcoin_Price  Bitcoin_Vol.  ...  Berkshire_Price  Berkshire_Vol.  \\\n",
            "0           43194.7       42650.0  ...           589498         10580.0   \n",
            "1           43081.4       47690.0  ...           581600          9780.0   \n",
            "2           42580.5       56480.0  ...           578020          9720.0   \n",
            "3           42946.2       55130.0  ...           584680          9750.0   \n",
            "4           43299.8       45230.0  ...           578800         13850.0   \n",
            "...             ...           ...  ...              ...             ...   \n",
            "1238         3661.7      699230.0  ...           300771           240.0   \n",
            "1239         3397.7      471360.0  ...           302813           240.0   \n",
            "1240         3404.3      514210.0  ...           308810           120.0   \n",
            "1241         3468.4      460950.0  ...           310700           360.0   \n",
            "1242         3462.8      503920.0  ...           312000           310.0   \n",
            "\n",
            "      Netflix_Price  Netflix_Vol.  Amazon_Price  Amazon_Vol.  Meta_Price  \\\n",
            "0            564.64     4030000.0        171.81  117220000.0      474.99   \n",
            "1            567.51     3150000.0        159.28   66360000.0      394.78   \n",
            "2            564.11     4830000.0        155.20   49690000.0      390.14   \n",
            "3            562.85     6120000.0        159.00   42290000.0      400.06   \n",
            "4            575.79     6880000.0        161.26   42840000.0      401.02   \n",
            "...             ...           ...           ...          ...         ...   \n",
            "1238         347.57     7560000.0         79.41  113150000.0      167.33   \n",
            "1239         344.71     7860000.0         80.72   92530000.0      166.38   \n",
            "1240         352.19     6720000.0         82.01   78800000.0      170.49   \n",
            "1241         355.81     9050000.0         82.94   89060000.0      171.16   \n",
            "1242         351.34     9050000.0         81.67   98580000.0      169.25   \n",
            "\n",
            "       Meta_Vol.  Gold_Price  Gold_Vol.  \n",
            "0     84710000.0      2053.7        NaN  \n",
            "1     25140000.0      2071.1   260920.0  \n",
            "2     20010000.0      2067.4   238370.0  \n",
            "3     18610000.0      2050.9   214590.0  \n",
            "4     17790000.0      2034.9     1780.0  \n",
            "...          ...         ...        ...  \n",
            "1238  12560000.0      1318.5   150610.0  \n",
            "1239  17520000.0      1314.2   166760.0  \n",
            "1240  13280000.0      1314.4   137250.0  \n",
            "1241  22560000.0      1319.2   129010.0  \n",
            "1242  20040000.0      1319.3   159560.0  \n",
            "\n",
            "[1243 rows x 39 columns]\n"
          ]
        }
      ]
    },
    {
      "cell_type": "code",
      "source": [
        "print(df1.loc[4])"
      ],
      "metadata": {
        "colab": {
          "base_uri": "https://localhost:8080/"
        },
        "id": "KlMRTUJx8NKZ",
        "outputId": "3ca6248b-d689-4b1a-b8b5-54d961e94bea"
      },
      "execution_count": null,
      "outputs": [
        {
          "output_type": "stream",
          "name": "stdout",
          "text": [
            "Unnamed: 0                             4\n",
            "Date                 2024-01-29 00:00:00\n",
            "Natural_Gas_Price                   2.49\n",
            "Natural_Gas_Vol.                  3590.0\n",
            "Crude_oil_Price                    76.78\n",
            "Crude_oil_Vol.                  331930.0\n",
            "Copper_Price                       3.879\n",
            "Copper_Vol.                          NaN\n",
            "Bitcoin_Price                    43299.8\n",
            "Bitcoin_Vol.                     45230.0\n",
            "Platinum_Price                     938.3\n",
            "Platinum_Vol.                        NaN\n",
            "Ethereum_Price                   2317.79\n",
            "Ethereum_Vol.                   318840.0\n",
            "S&P_500_Price                    4927.93\n",
            "Nasdaq_100_Price                17596.27\n",
            "Nasdaq_100_Vol.              238750000.0\n",
            "Apple_Price                       191.73\n",
            "Apple_Vol.                    46890000.0\n",
            "Tesla_Price                       190.93\n",
            "Tesla_Vol.                   123600000.0\n",
            "Microsoft_Price                   409.72\n",
            "Microsoft_Vol.                23290000.0\n",
            "Silver_Price                      23.134\n",
            "Silver_Vol.                        330.0\n",
            "Google_Price                      153.51\n",
            "Google_Vol.                   27590000.0\n",
            "Nvidia_Price                      624.65\n",
            "Nvidia_Vol.                   33900000.0\n",
            "Berkshire_Price                   578800\n",
            "Berkshire_Vol.                   13850.0\n",
            "Netflix_Price                     575.79\n",
            "Netflix_Vol.                   6880000.0\n",
            "Amazon_Price                      161.26\n",
            "Amazon_Vol.                   42840000.0\n",
            "Meta_Price                        401.02\n",
            "Meta_Vol.                     17790000.0\n",
            "Gold_Price                        2034.9\n",
            "Gold_Vol.                         1780.0\n",
            "Name: 4, dtype: object\n"
          ]
        }
      ]
    },
    {
      "cell_type": "code",
      "source": [
        "mv=df1['Gold_Price'].mean()\n",
        "df1=df1.fillna(mv)\n",
        "print(df1)\n",
        "print(mv)"
      ],
      "metadata": {
        "colab": {
          "base_uri": "https://localhost:8080/"
        },
        "id": "bvgpGlcm97Jg",
        "outputId": "fab36c1f-449d-4de2-9d41-717a8e8993f6"
      },
      "execution_count": null,
      "outputs": [
        {
          "output_type": "stream",
          "name": "stdout",
          "text": [
            "      Unnamed: 0       Date  Natural_Gas_Price  Natural_Gas_Vol.  \\\n",
            "0              0 2024-02-02              2.079       1759.246742   \n",
            "1              1 2024-02-01              2.050     161340.000000   \n",
            "2              2 2024-01-31              2.100     142860.000000   \n",
            "3              3 2024-01-30              2.077     139750.000000   \n",
            "4              4 2024-01-29              2.490       3590.000000   \n",
            "...          ...        ...                ...               ...   \n",
            "1238        1238 2019-02-08              2.583     147880.000000   \n",
            "1239        1239 2019-02-07              2.551     211790.000000   \n",
            "1240        1240 2019-02-06              2.662      98330.000000   \n",
            "1241        1241 2019-02-05              2.662      82250.000000   \n",
            "1242        1242 2019-02-04              2.660     116490.000000   \n",
            "\n",
            "      Crude_oil_Price  Crude_oil_Vol.  Copper_Price  Copper_Vol.  \\\n",
            "0               72.28     1759.246742        3.8215  1759.246742   \n",
            "1               73.82   577940.000000        3.8535  1759.246742   \n",
            "2               75.85   344490.000000        3.9060  1759.246742   \n",
            "3               77.82   347240.000000        3.9110  1759.246742   \n",
            "4               76.78   331930.000000        3.8790  1759.246742   \n",
            "...               ...             ...           ...          ...   \n",
            "1238            52.72   621000.000000        2.8140   270.000000   \n",
            "1239            52.64   749010.000000        2.8320   320.000000   \n",
            "1240            54.01   606720.000000        2.8400   100.000000   \n",
            "1241            53.66   609760.000000        2.8205    90.000000   \n",
            "1242            54.56   622470.000000        2.7975   490.000000   \n",
            "\n",
            "      Bitcoin_Price  Bitcoin_Vol.  ...  Berkshire_Price  Berkshire_Vol.  \\\n",
            "0           43194.7       42650.0  ...           589498         10580.0   \n",
            "1           43081.4       47690.0  ...           581600          9780.0   \n",
            "2           42580.5       56480.0  ...           578020          9720.0   \n",
            "3           42946.2       55130.0  ...           584680          9750.0   \n",
            "4           43299.8       45230.0  ...           578800         13850.0   \n",
            "...             ...           ...  ...              ...             ...   \n",
            "1238         3661.7      699230.0  ...           300771           240.0   \n",
            "1239         3397.7      471360.0  ...           302813           240.0   \n",
            "1240         3404.3      514210.0  ...           308810           120.0   \n",
            "1241         3468.4      460950.0  ...           310700           360.0   \n",
            "1242         3462.8      503920.0  ...           312000           310.0   \n",
            "\n",
            "      Netflix_Price  Netflix_Vol.  Amazon_Price  Amazon_Vol.  Meta_Price  \\\n",
            "0            564.64     4030000.0        171.81  117220000.0      474.99   \n",
            "1            567.51     3150000.0        159.28   66360000.0      394.78   \n",
            "2            564.11     4830000.0        155.20   49690000.0      390.14   \n",
            "3            562.85     6120000.0        159.00   42290000.0      400.06   \n",
            "4            575.79     6880000.0        161.26   42840000.0      401.02   \n",
            "...             ...           ...           ...          ...         ...   \n",
            "1238         347.57     7560000.0         79.41  113150000.0      167.33   \n",
            "1239         344.71     7860000.0         80.72   92530000.0      166.38   \n",
            "1240         352.19     6720000.0         82.01   78800000.0      170.49   \n",
            "1241         355.81     9050000.0         82.94   89060000.0      171.16   \n",
            "1242         351.34     9050000.0         81.67   98580000.0      169.25   \n",
            "\n",
            "       Meta_Vol.  Gold_Price      Gold_Vol.  \n",
            "0     84710000.0      2053.7    1759.246742  \n",
            "1     25140000.0      2071.1  260920.000000  \n",
            "2     20010000.0      2067.4  238370.000000  \n",
            "3     18610000.0      2050.9  214590.000000  \n",
            "4     17790000.0      2034.9    1780.000000  \n",
            "...          ...         ...            ...  \n",
            "1238  12560000.0      1318.5  150610.000000  \n",
            "1239  17520000.0      1314.2  166760.000000  \n",
            "1240  13280000.0      1314.4  137250.000000  \n",
            "1241  22560000.0      1319.2  129010.000000  \n",
            "1242  20040000.0      1319.3  159560.000000  \n",
            "\n",
            "[1243 rows x 39 columns]\n",
            "1759.2467417538217\n"
          ]
        }
      ]
    },
    {
      "cell_type": "code",
      "source": [
        "df1=df1.drop_duplicates()     #to delete copy\n",
        "print(df1)"
      ],
      "metadata": {
        "colab": {
          "base_uri": "https://localhost:8080/"
        },
        "id": "PAromiNJ_uKZ",
        "outputId": "2f1e55e9-35d9-4cf2-e66c-a70358a5f64d"
      },
      "execution_count": null,
      "outputs": [
        {
          "output_type": "stream",
          "name": "stdout",
          "text": [
            "      Unnamed: 0       Date  Natural_Gas_Price  Natural_Gas_Vol.  \\\n",
            "0              0 2024-02-02              2.079       1759.246742   \n",
            "1              1 2024-02-01              2.050     161340.000000   \n",
            "2              2 2024-01-31              2.100     142860.000000   \n",
            "3              3 2024-01-30              2.077     139750.000000   \n",
            "4              4 2024-01-29              2.490       3590.000000   \n",
            "...          ...        ...                ...               ...   \n",
            "1238        1238 2019-02-08              2.583     147880.000000   \n",
            "1239        1239 2019-02-07              2.551     211790.000000   \n",
            "1240        1240 2019-02-06              2.662      98330.000000   \n",
            "1241        1241 2019-02-05              2.662      82250.000000   \n",
            "1242        1242 2019-02-04              2.660     116490.000000   \n",
            "\n",
            "      Crude_oil_Price  Crude_oil_Vol.  Copper_Price  Copper_Vol.  \\\n",
            "0               72.28     1759.246742        3.8215  1759.246742   \n",
            "1               73.82   577940.000000        3.8535  1759.246742   \n",
            "2               75.85   344490.000000        3.9060  1759.246742   \n",
            "3               77.82   347240.000000        3.9110  1759.246742   \n",
            "4               76.78   331930.000000        3.8790  1759.246742   \n",
            "...               ...             ...           ...          ...   \n",
            "1238            52.72   621000.000000        2.8140   270.000000   \n",
            "1239            52.64   749010.000000        2.8320   320.000000   \n",
            "1240            54.01   606720.000000        2.8400   100.000000   \n",
            "1241            53.66   609760.000000        2.8205    90.000000   \n",
            "1242            54.56   622470.000000        2.7975   490.000000   \n",
            "\n",
            "      Bitcoin_Price  Bitcoin_Vol.  ...  Berkshire_Price  Berkshire_Vol.  \\\n",
            "0           43194.7       42650.0  ...           589498         10580.0   \n",
            "1           43081.4       47690.0  ...           581600          9780.0   \n",
            "2           42580.5       56480.0  ...           578020          9720.0   \n",
            "3           42946.2       55130.0  ...           584680          9750.0   \n",
            "4           43299.8       45230.0  ...           578800         13850.0   \n",
            "...             ...           ...  ...              ...             ...   \n",
            "1238         3661.7      699230.0  ...           300771           240.0   \n",
            "1239         3397.7      471360.0  ...           302813           240.0   \n",
            "1240         3404.3      514210.0  ...           308810           120.0   \n",
            "1241         3468.4      460950.0  ...           310700           360.0   \n",
            "1242         3462.8      503920.0  ...           312000           310.0   \n",
            "\n",
            "      Netflix_Price  Netflix_Vol.  Amazon_Price  Amazon_Vol.  Meta_Price  \\\n",
            "0            564.64     4030000.0        171.81  117220000.0      474.99   \n",
            "1            567.51     3150000.0        159.28   66360000.0      394.78   \n",
            "2            564.11     4830000.0        155.20   49690000.0      390.14   \n",
            "3            562.85     6120000.0        159.00   42290000.0      400.06   \n",
            "4            575.79     6880000.0        161.26   42840000.0      401.02   \n",
            "...             ...           ...           ...          ...         ...   \n",
            "1238         347.57     7560000.0         79.41  113150000.0      167.33   \n",
            "1239         344.71     7860000.0         80.72   92530000.0      166.38   \n",
            "1240         352.19     6720000.0         82.01   78800000.0      170.49   \n",
            "1241         355.81     9050000.0         82.94   89060000.0      171.16   \n",
            "1242         351.34     9050000.0         81.67   98580000.0      169.25   \n",
            "\n",
            "       Meta_Vol.  Gold_Price      Gold_Vol.  \n",
            "0     84710000.0      2053.7    1759.246742  \n",
            "1     25140000.0      2071.1  260920.000000  \n",
            "2     20010000.0      2067.4  238370.000000  \n",
            "3     18610000.0      2050.9  214590.000000  \n",
            "4     17790000.0      2034.9    1780.000000  \n",
            "...          ...         ...            ...  \n",
            "1238  12560000.0      1318.5  150610.000000  \n",
            "1239  17520000.0      1314.2  166760.000000  \n",
            "1240  13280000.0      1314.4  137250.000000  \n",
            "1241  22560000.0      1319.2  129010.000000  \n",
            "1242  20040000.0      1319.3  159560.000000  \n",
            "\n",
            "[1243 rows x 39 columns]\n"
          ]
        }
      ]
    },
    {
      "cell_type": "code",
      "source": [
        "print(df1.head())"
      ],
      "metadata": {
        "colab": {
          "base_uri": "https://localhost:8080/"
        },
        "id": "_Um674iXCX7K",
        "outputId": "1e45ec43-84de-48ed-e124-5af9319a1881"
      },
      "execution_count": null,
      "outputs": [
        {
          "output_type": "stream",
          "name": "stdout",
          "text": [
            "   Unnamed: 0       Date  Natural_Gas_Price  Natural_Gas_Vol.  \\\n",
            "0           0 2024-02-02              2.079       1759.246742   \n",
            "1           1 2024-02-01              2.050     161340.000000   \n",
            "2           2 2024-01-31              2.100     142860.000000   \n",
            "3           3 2024-01-30              2.077     139750.000000   \n",
            "4           4 2024-01-29              2.490       3590.000000   \n",
            "\n",
            "   Crude_oil_Price  Crude_oil_Vol.  Copper_Price  Copper_Vol.  Bitcoin_Price  \\\n",
            "0            72.28     1759.246742        3.8215  1759.246742        43194.7   \n",
            "1            73.82   577940.000000        3.8535  1759.246742        43081.4   \n",
            "2            75.85   344490.000000        3.9060  1759.246742        42580.5   \n",
            "3            77.82   347240.000000        3.9110  1759.246742        42946.2   \n",
            "4            76.78   331930.000000        3.8790  1759.246742        43299.8   \n",
            "\n",
            "   Bitcoin_Vol.  ...  Berkshire_Price  Berkshire_Vol.  Netflix_Price  \\\n",
            "0       42650.0  ...           589498         10580.0         564.64   \n",
            "1       47690.0  ...           581600          9780.0         567.51   \n",
            "2       56480.0  ...           578020          9720.0         564.11   \n",
            "3       55130.0  ...           584680          9750.0         562.85   \n",
            "4       45230.0  ...           578800         13850.0         575.79   \n",
            "\n",
            "   Netflix_Vol.  Amazon_Price  Amazon_Vol.  Meta_Price   Meta_Vol.  \\\n",
            "0     4030000.0        171.81  117220000.0      474.99  84710000.0   \n",
            "1     3150000.0        159.28   66360000.0      394.78  25140000.0   \n",
            "2     4830000.0        155.20   49690000.0      390.14  20010000.0   \n",
            "3     6120000.0        159.00   42290000.0      400.06  18610000.0   \n",
            "4     6880000.0        161.26   42840000.0      401.02  17790000.0   \n",
            "\n",
            "   Gold_Price      Gold_Vol.  \n",
            "0      2053.7    1759.246742  \n",
            "1      2071.1  260920.000000  \n",
            "2      2067.4  238370.000000  \n",
            "3      2050.9  214590.000000  \n",
            "4      2034.9    1780.000000  \n",
            "\n",
            "[5 rows x 39 columns]\n"
          ]
        }
      ]
    },
    {
      "cell_type": "code",
      "source": [
        "print(df1.tail())"
      ],
      "metadata": {
        "colab": {
          "base_uri": "https://localhost:8080/"
        },
        "id": "3BuWEHsQCzvu",
        "outputId": "03cee3ef-4dbd-44ce-98fa-b91470a6ac4e"
      },
      "execution_count": null,
      "outputs": [
        {
          "output_type": "stream",
          "name": "stdout",
          "text": [
            "      Unnamed: 0       Date  Natural_Gas_Price  Natural_Gas_Vol.  \\\n",
            "1238        1238 2019-02-08              2.583          147880.0   \n",
            "1239        1239 2019-02-07              2.551          211790.0   \n",
            "1240        1240 2019-02-06              2.662           98330.0   \n",
            "1241        1241 2019-02-05              2.662           82250.0   \n",
            "1242        1242 2019-02-04              2.660          116490.0   \n",
            "\n",
            "      Crude_oil_Price  Crude_oil_Vol.  Copper_Price  Copper_Vol.  \\\n",
            "1238            52.72        621000.0        2.8140        270.0   \n",
            "1239            52.64        749010.0        2.8320        320.0   \n",
            "1240            54.01        606720.0        2.8400        100.0   \n",
            "1241            53.66        609760.0        2.8205         90.0   \n",
            "1242            54.56        622470.0        2.7975        490.0   \n",
            "\n",
            "      Bitcoin_Price  Bitcoin_Vol.  ...  Berkshire_Price  Berkshire_Vol.  \\\n",
            "1238         3661.7      699230.0  ...           300771           240.0   \n",
            "1239         3397.7      471360.0  ...           302813           240.0   \n",
            "1240         3404.3      514210.0  ...           308810           120.0   \n",
            "1241         3468.4      460950.0  ...           310700           360.0   \n",
            "1242         3462.8      503920.0  ...           312000           310.0   \n",
            "\n",
            "      Netflix_Price  Netflix_Vol.  Amazon_Price  Amazon_Vol.  Meta_Price  \\\n",
            "1238         347.57     7560000.0         79.41  113150000.0      167.33   \n",
            "1239         344.71     7860000.0         80.72   92530000.0      166.38   \n",
            "1240         352.19     6720000.0         82.01   78800000.0      170.49   \n",
            "1241         355.81     9050000.0         82.94   89060000.0      171.16   \n",
            "1242         351.34     9050000.0         81.67   98580000.0      169.25   \n",
            "\n",
            "       Meta_Vol.  Gold_Price  Gold_Vol.  \n",
            "1238  12560000.0      1318.5   150610.0  \n",
            "1239  17520000.0      1314.2   166760.0  \n",
            "1240  13280000.0      1314.4   137250.0  \n",
            "1241  22560000.0      1319.2   129010.0  \n",
            "1242  20040000.0      1319.3   159560.0  \n",
            "\n",
            "[5 rows x 39 columns]\n"
          ]
        }
      ]
    },
    {
      "cell_type": "code",
      "source": [
        "from google.colab import drive\n",
        "drive.mount('/content/drive')"
      ],
      "metadata": {
        "colab": {
          "base_uri": "https://localhost:8080/"
        },
        "id": "BrFhsKL2Gn8V",
        "outputId": "390f3cf7-b2a0-43e7-9a3e-8a39e11b2dd4"
      },
      "execution_count": null,
      "outputs": [
        {
          "output_type": "stream",
          "name": "stdout",
          "text": [
            "Drive already mounted at /content/drive; to attempt to forcibly remount, call drive.mount(\"/content/drive\", force_remount=True).\n"
          ]
        }
      ]
    },
    {
      "cell_type": "code",
      "source": [
        "df1.shape"
      ],
      "metadata": {
        "colab": {
          "base_uri": "https://localhost:8080/"
        },
        "id": "zTJ6RWn4IkMF",
        "outputId": "855816ae-5127-4c77-b9a2-7d5e2d773f2e"
      },
      "execution_count": null,
      "outputs": [
        {
          "output_type": "execute_result",
          "data": {
            "text/plain": [
              "(1243, 39)"
            ]
          },
          "metadata": {},
          "execution_count": 63
        }
      ]
    },
    {
      "cell_type": "code",
      "source": [
        "df1=pd.read_csv(\"/content/gapminder-FiveYearData.csv\")\n",
        "data_manual_testing1=df1.head(10)\n",
        "for i in range(1233,1243,1):\n",
        "  df1.drop([i],axis=0,inplace=True)   #remove 10 values from original set\n"
      ],
      "metadata": {
        "id": "AHukzbeoNMi4"
      },
      "execution_count": null,
      "outputs": []
    },
    {
      "cell_type": "code",
      "source": [
        "data_manual_testing2=df1.tail(10)\n",
        "for i in range(1694,1684,-1):\n",
        "  df1.drop([i],axis=0,inplace=True)\n",
        "\n",
        "mt=pd.concat([data_manual_testing1,data_manual_testing2],axis=0)\n",
        "mt.to_csv(\"concate.csv\")"
      ],
      "metadata": {
        "id": "uyLlOVreOiaf"
      },
      "execution_count": null,
      "outputs": []
    },
    {
      "cell_type": "code",
      "source": [
        "print(df1.shape)"
      ],
      "metadata": {
        "colab": {
          "base_uri": "https://localhost:8080/"
        },
        "id": "oQjO_2WfQv6R",
        "outputId": "c2933384-30cc-46e5-8dfd-694e90d88f62"
      },
      "execution_count": null,
      "outputs": [
        {
          "output_type": "stream",
          "name": "stdout",
          "text": [
            "(1694, 6)\n"
          ]
        }
      ]
    },
    {
      "cell_type": "code",
      "source": [
        "c=pd.read_csv(\"/content/concate.csv\")\n",
        "print(c.groupby([\"year\"])[\"pop\"].count())"
      ],
      "metadata": {
        "colab": {
          "base_uri": "https://localhost:8080/"
        },
        "id": "2o7pXRAaToH2",
        "outputId": "64f22cb3-9525-4f26-9931-1cca84e712c4"
      },
      "execution_count": null,
      "outputs": [
        {
          "output_type": "stream",
          "name": "stdout",
          "text": [
            "year\n",
            "1952    1\n",
            "1957    1\n",
            "1962    2\n",
            "1967    2\n",
            "1972    2\n",
            "1977    2\n",
            "1982    2\n",
            "1987    2\n",
            "1992    2\n",
            "1997    2\n",
            "2002    1\n",
            "2007    1\n",
            "Name: pop, dtype: int64\n"
          ]
        }
      ]
    },
    {
      "cell_type": "code",
      "source": [
        "import numpy as np\n",
        "import matplotlib.pyplot as plt\n",
        "runs=np.array([100,50,91,78,89,25,34,19,2,4])\n",
        "wickets=np.array([1,2,3,4,5,6,7,8,9,10])\n",
        "plt.scatter(runs,wickets,color=\"blue\")\n",
        "plt.title(\"cricket_score\")\n",
        "plt.show()\n"
      ],
      "metadata": {
        "colab": {
          "base_uri": "https://localhost:8080/",
          "height": 452
        },
        "id": "xmPOMCtGqUKN",
        "outputId": "e13f2c6a-9603-453b-c5b8-6fe37de7c2f7"
      },
      "execution_count": null,
      "outputs": [
        {
          "output_type": "display_data",
          "data": {
            "text/plain": [
              "<Figure size 640x480 with 1 Axes>"
            ],
            "image/png": "[encoded data removed]"
          },
          "metadata": {}
        }
      ]
    },
    {
      "cell_type": "code",
      "source": [
        "tigar=np.linspace(-2*np.pi,2*np.pi,100)\n",
        "print(tigar)\n",
        "plt.plot(tigar,np.sin(tigar),color=\"black\")\n",
        "plt.title(\"sin(x)\")\n",
        "plt.show()"
      ],
      "metadata": {
        "colab": {
          "base_uri": "https://localhost:8080/",
          "height": 747
        },
        "id": "_ne5UEgjs1qH",
        "outputId": "02692a52-fa1c-4bfc-c32d-166c738017f8"
      },
      "execution_count": null,
      "outputs": [
        {
          "output_type": "stream",
          "name": "stdout",
          "text": [
            "[-6.28318531 -6.15625227 -6.02931923 -5.9023862  -5.77545316 -5.64852012\n",
            " -5.52158709 -5.39465405 -5.26772102 -5.14078798 -5.01385494 -4.88692191\n",
            " -4.75998887 -4.63305583 -4.5061228  -4.37918976 -4.25225672 -4.12532369\n",
            " -3.99839065 -3.87145761 -3.74452458 -3.61759154 -3.4906585  -3.36372547\n",
            " -3.23679243 -3.10985939 -2.98292636 -2.85599332 -2.72906028 -2.60212725\n",
            " -2.47519421 -2.34826118 -2.22132814 -2.0943951  -1.96746207 -1.84052903\n",
            " -1.71359599 -1.58666296 -1.45972992 -1.33279688 -1.20586385 -1.07893081\n",
            " -0.95199777 -0.82506474 -0.6981317  -0.57119866 -0.44426563 -0.31733259\n",
            " -0.19039955 -0.06346652  0.06346652  0.19039955  0.31733259  0.44426563\n",
            "  0.57119866  0.6981317   0.82506474  0.95199777  1.07893081  1.20586385\n",
            "  1.33279688  1.45972992  1.58666296  1.71359599  1.84052903  1.96746207\n",
            "  2.0943951   2.22132814  2.34826118  2.47519421  2.60212725  2.72906028\n",
            "  2.85599332  2.98292636  3.10985939  3.23679243  3.36372547  3.4906585\n",
            "  3.61759154  3.74452458  3.87145761  3.99839065  4.12532369  4.25225672\n",
            "  4.37918976  4.5061228   4.63305583  4.75998887  4.88692191  5.01385494\n",
            "  5.14078798  5.26772102  5.39465405  5.52158709  5.64852012  5.77545316\n",
            "  5.9023862   6.02931923  6.15625227  6.28318531]\n"
          ]
        },
        {
          "output_type": "display_data",
          "data": {
            "text/plain": [
              "<Figure size 640x480 with 1 Axes>"
            ],
            "image/png": "[encoded data removed]"
          },
          "metadata": {}
        }
      ]
    }
  ]
}